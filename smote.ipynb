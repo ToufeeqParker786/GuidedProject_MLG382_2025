{
 "cells": [
  {
   "cell_type": "code",
   "execution_count": null,
   "id": "a617e488",
   "metadata": {},
   "outputs": [
    {
     "name": "stdout",
     "output_type": "stream",
     "text": [
      "Original class distribution: {'C': 24, 'A': 24, 'B': 23, 'D': 29}\n",
      "After SMOTE class distribution: {'C': 29, 'A': 29, 'B': 29, 'D': 29}\n"
     ]
    }
   ],
   "source": [
    "\n",
    "import pandas as pd\n",
    "from sklearn.preprocessing import LabelEncoder\n",
    "from imblearn.over_sampling import SMOTE\n",
    "from collections import Counter\n",
    "import matplotlib.pyplot as plt\n",
    "\n",
    "df = pd.read_csv(\"Student_performance_data.csv\")\n",
    "\n",
    "\n",
    "def assign_grade_class(gpa):\n",
    "    if gpa >= 3.5:\n",
    "        return 'A'\n",
    "    elif gpa >= 3.0:\n",
    "        return 'B'\n",
    "    elif gpa >= 2.5:\n",
    "        return 'C'\n",
    "    elif gpa >= 2.0:\n",
    "        return 'D'\n",
    "    else:\n",
    "        return 'F'\n",
    "\n",
    "\n",
    "df['GradeLetter'] = df['GPA'].apply(assign_grade_class)\n",
    "\n",
    "\n",
    "label_encoder = LabelEncoder()\n",
    "df['GradeClassEncoded'] = label_encoder.fit_transform(df['GradeLetter'])\n",
    "\n",
    "\n",
    "X = df.drop(['GradeLetter', 'GradeClassEncoded', 'StudentID', 'GPA'], axis=1)\n",
    "y = df['GradeClassEncoded']\n",
    "\n",
    "\n",
    "original_counts = dict(Counter(y))\n",
    "print(\"Original class distribution:\", {label_encoder.inverse_transform([k])[0]: v for k, v in original_counts.items()})\n",
    "\n",
    "\n",
    "smote = SMOTE(random_state=42)\n",
    "X_resampled, y_resampled = smote.fit_resample(X, y)\n",
    "\n",
    "y_resampled_letters = label_encoder.inverse_transform(y_resampled)\n",
    "\n",
    "\n",
    "resampled_counts = dict(Counter(y_resampled))\n",
    "print(\"After SMOTE class distribution:\", {label_encoder.inverse_transform([k])[0]: v for k, v in resampled_counts.items()})\n"
   ]
  },
  {
   "cell_type": "code",
   "execution_count": null,
   "id": "2da2d9af",
   "metadata": {},
   "outputs": [],
   "source": [
    "\n"
   ]
  }
 ],
 "metadata": {
  "kernelspec": {
   "display_name": "Python 3",
   "language": "python",
   "name": "python3"
  },
  "language_info": {
   "codemirror_mode": {
    "name": "ipython",
    "version": 3
   },
   "file_extension": ".py",
   "mimetype": "text/x-python",
   "name": "python",
   "nbconvert_exporter": "python",
   "pygments_lexer": "ipython3",
   "version": "3.13.3"
  }
 },
 "nbformat": 4,
 "nbformat_minor": 5
}

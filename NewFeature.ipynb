{
 "cells": [
  {
   "cell_type": "code",
   "execution_count": 18,
   "id": "49340d9e",
   "metadata": {},
   "outputs": [
    {
     "name": "stdout",
     "output_type": "stream",
     "text": [
      "Data loaded successfully from file.\n",
      "\n",
      "Derived metrics (first 5 rows):\n",
      "   StudySupport  ParentalStudyInteraction  EngagementScore  AttendanceRate  \\\n",
      "0     24.833723                 39.667446                1        0.758621   \n",
      "1     15.408756                 15.408756                0        1.000000   \n",
      "2      4.210570                  8.421140                0        0.103448   \n",
      "3     10.028829                 30.086488                1        0.517241   \n",
      "4      9.672495                 14.017486                0        0.413793   \n",
      "\n",
      "   AcademicSupportScore  StudyEfficiency  \n",
      "0                     4         0.147680  \n",
      "1                     1         0.197467  \n",
      "2                     2         0.026736  \n",
      "3                     3         0.204811  \n",
      "4                     5         0.275610  \n"
     ]
    }
   ],
   "source": [
    "\n",
    "\n",
    "\n",
    "import pandas as pd\n",
    "import numpy as np\n",
    "\n",
    "\n",
    "def calculate_derived_metrics(df):\n",
    "   \n",
    "  \n",
    "    result_df = df.copy()\n",
    "    \n",
    "    # weekly study time plus weighted tutoring\n",
    "    result_df['StudySupport'] = result_df['StudyTimeWeekly'] + (result_df['Tutoring'] * 5)\n",
    "    \n",
    "    # parental support and study time weekly\n",
    "    result_df['ParentalStudyInteraction'] = result_df['ParentalSupport'] * result_df['StudyTimeWeekly']\n",
    "    \n",
    "    # engagement in activities outside academic\n",
    "    result_df['EngagementScore'] = result_df[['Extracurricular', 'Sports', 'Music', 'Volunteering']].sum(axis=1)\n",
    "    \n",
    "    # attendance rate as a percentage\n",
    "    result_df['AttendanceRate'] = 1 - (result_df['Absences'] / result_df['Absences'].max())\n",
    "    \n",
    "    #  parental support + tutoring\n",
    "    result_df['AcademicSupportScore'] = result_df['ParentalSupport'] + (result_df['Tutoring'] * 2)\n",
    "    \n",
    "    # GPA per hour of study (accounts for zero)\n",
    "    result_df['StudyEfficiency'] = result_df['GPA'] / (result_df['StudyTimeWeekly'] + 1e-3)\n",
    "    \n",
    "    return result_df\n",
    "\n",
    "try:\n",
    "   \n",
    "    df = pd.read_csv(\"Student_performance_data .csv\")\n",
    "    print(\"Data loaded successfully from file.\")\n",
    "except FileNotFoundError:\n",
    "  \n",
    "    Print(\"File not found.\")\n",
    "  \n",
    "\n",
    "\n",
    "df = calculate_derived_metrics(df)\n",
    "\n",
    "\n",
    "print(\"\\nDerived metrics (first 5 rows):\")\n",
    "print(df[['StudySupport', 'ParentalStudyInteraction', 'EngagementScore',\n",
    "          'AttendanceRate', 'AcademicSupportScore', 'StudyEfficiency']].head())\n"
   ]
  }
 ],
 "metadata": {
  "kernelspec": {
   "display_name": "base",
   "language": "python",
   "name": "python3"
  },
  "language_info": {
   "codemirror_mode": {
    "name": "ipython",
    "version": 3
   },
   "file_extension": ".py",
   "mimetype": "text/x-python",
   "name": "python",
   "nbconvert_exporter": "python",
   "pygments_lexer": "ipython3",
   "version": "3.12.7"
  }
 },
 "nbformat": 4,
 "nbformat_minor": 5
}

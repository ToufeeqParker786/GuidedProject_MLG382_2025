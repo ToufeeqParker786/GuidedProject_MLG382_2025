{
 "cells": [
  {
   "cell_type": "code",
   "execution_count": 1,
   "id": "49340d9e",
   "metadata": {},
   "outputs": [
    {
     "name": "stdout",
     "output_type": "stream",
     "text": [
      "Data loaded successfully from file.\n",
      "\n",
      "Derived metrics (first 5 rows):\n",
      "   StudySupport  ParentalStudyInteraction  EngagementScore  AttendanceRate  \\\n",
      "0            17                        35                0        0.071429   \n",
      "1            27                        34                1        0.571429   \n",
      "2             9                         8                4        0.357143   \n",
      "3             5                        15                2        0.857143   \n",
      "4            17                        14                1        1.000000   \n",
      "\n",
      "   AcademicSupportScore  StudyEfficiency  \n",
      "0                     9         0.392801  \n",
      "1                     6         0.229398  \n",
      "2                     4         0.864784  \n",
      "3                     3         0.639872  \n",
      "4                     6         0.329953  \n"
     ]
    }
   ],
   "source": [
    "\n",
    "\n",
    "\n",
    "import pandas as pd\n",
    "import numpy as np\n",
    "\n",
    "\n",
    "def calculate_derived_metrics(df):\n",
    "   \n",
    "  \n",
    "    result_df = df.copy()\n",
    "    \n",
    "    # weekly study time plus weighted tutoring\n",
    "    result_df['StudySupport'] = result_df['StudyTimeWeekly'] + (result_df['Tutoring'] * 5)\n",
    "    \n",
    "    # parental support and study time weekly\n",
    "    result_df['ParentalStudyInteraction'] = result_df['ParentalSupport'] * result_df['StudyTimeWeekly']\n",
    "    \n",
    "    # engagement in activities outside academic\n",
    "    result_df['EngagementScore'] = result_df[['Extracurricular', 'Sports', 'Music', 'Volunteering']].sum(axis=1)\n",
    "    \n",
    "    # attendance rate as a percentage\n",
    "    result_df['AttendanceRate'] = 1 - (result_df['Absences'] / result_df['Absences'].max())\n",
    "    \n",
    "    #  parental support + tutoring\n",
    "    result_df['AcademicSupportScore'] = result_df['ParentalSupport'] + (result_df['Tutoring'] * 2)\n",
    "    \n",
    "    # GPA per hour of study (accounts for zero)\n",
    "    result_df['StudyEfficiency'] = result_df['GPA'] / (result_df['StudyTimeWeekly'] + 1e-3)\n",
    "    \n",
    "    return result_df\n",
    "\n",
    "try:\n",
    "   \n",
    "    df = pd.read_csv(\"Student_performance_data.csv\")\n",
    "    print(\"Data loaded successfully from file.\")\n",
    "except FileNotFoundError:\n",
    "  \n",
    "    print(\"File not found.\")\n",
    "  \n",
    "\n",
    "\n",
    "df = calculate_derived_metrics(df)\n",
    "\n",
    "\n",
    "print(\"\\nDerived metrics (first 5 rows):\")\n",
    "print(df[['StudySupport', 'ParentalStudyInteraction', 'EngagementScore',\n",
    "          'AttendanceRate', 'AcademicSupportScore', 'StudyEfficiency']].head())\n"
   ]
  }
 ],
 "metadata": {
  "kernelspec": {
   "display_name": "base",
   "language": "python",
   "name": "python3"
  },
  "language_info": {
   "codemirror_mode": {
    "name": "ipython",
    "version": 3
   },
   "file_extension": ".py",
   "mimetype": "text/x-python",
   "name": "python",
   "nbconvert_exporter": "python",
   "pygments_lexer": "ipython3",
   "version": "3.12.7"
  }
 },
 "nbformat": 4,
 "nbformat_minor": 5
}

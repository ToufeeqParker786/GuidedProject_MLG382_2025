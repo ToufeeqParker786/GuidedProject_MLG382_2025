{
 "cells": [
  {
   "cell_type": "markdown",
   "id": "2e2cbbc7",
   "metadata": {},
   "source": [
    "# Understanding The Data"
   ]
  },
  {
   "cell_type": "code",
   "execution_count": null,
   "id": "6964589d",
   "metadata": {},
   "outputs": [],
   "source": [
    "import pandas as pd\n",
    "import numpy as np\n",
    "import seaborn as sns\n",
    "import matplotlib.pyplot as plt\n",
    "\n",
    "from sklearn.model_selection import train_test_split\n",
    "from sklearn.preprocessing import PolynomialFeatures\n",
    "from sklearn.linear_model import LinearRegression\n",
    "\n",
    "Filename=\"Student_performance_data .csv\" #importing .csv file using pandas\n",
    "df=pd.read_csv(Filename)\n",
    "\n",
    "df.head()"
   ]
  },
  {
   "cell_type": "code",
   "execution_count": null,
   "id": "fb4341d3",
   "metadata": {},
   "outputs": [],
   "source": [
    "df.describe().T"
   ]
  },
  {
   "cell_type": "code",
   "execution_count": null,
   "id": "9d95ae8a",
   "metadata": {},
   "outputs": [],
   "source": [
    "df.info() #Gathering info from .csv file"
   ]
  },
  {
   "cell_type": "code",
   "execution_count": null,
   "id": "0f958f7e",
   "metadata": {},
   "outputs": [],
   "source": [
    "df.isnull().sum() #check to see if any values are missing"
   ]
  },
  {
   "cell_type": "code",
   "execution_count": null,
   "id": "a2ffcde4",
   "metadata": {},
   "outputs": [],
   "source": [
    "duplicates = df[df.duplicated()]\n",
    "print(duplicates)"
   ]
  }
 ],
 "metadata": {
  "kernelspec": {
   "display_name": "base",
   "language": "python",
   "name": "python3"
  },
  "language_info": {
   "name": "python",
   "version": "3.12.7"
  }
 },
 "nbformat": 4,
 "nbformat_minor": 5
}
